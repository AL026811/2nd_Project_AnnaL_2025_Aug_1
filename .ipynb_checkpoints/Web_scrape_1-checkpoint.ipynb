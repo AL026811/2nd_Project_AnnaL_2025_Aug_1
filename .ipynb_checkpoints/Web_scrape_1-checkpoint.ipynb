{
 "cells": [
  {
   "cell_type": "code",
   "execution_count": 2,
   "id": "d3f6af9c",
   "metadata": {},
   "outputs": [
    {
     "name": "stdout",
     "output_type": "stream",
     "text": [
      "Requirement already satisfied: yfinance in c:\\users\\annah\\appdata\\local\\anaconda3\\envs\\py3_12\\lib\\site-packages (0.2.57)\n",
      "Requirement already satisfied: pandas>=1.3.0 in c:\\users\\annah\\appdata\\local\\anaconda3\\envs\\py3_12\\lib\\site-packages (from yfinance) (2.3.1)\n",
      "Requirement already satisfied: numpy>=1.16.5 in c:\\users\\annah\\appdata\\local\\anaconda3\\envs\\py3_12\\lib\\site-packages (from yfinance) (2.3.1)\n",
      "Requirement already satisfied: requests>=2.31 in c:\\users\\annah\\appdata\\local\\anaconda3\\envs\\py3_12\\lib\\site-packages (from yfinance) (2.32.4)\n",
      "Requirement already satisfied: multitasking>=0.0.7 in c:\\users\\annah\\appdata\\local\\anaconda3\\envs\\py3_12\\lib\\site-packages (from yfinance) (0.0.12)\n",
      "Requirement already satisfied: platformdirs>=2.0.0 in c:\\users\\annah\\appdata\\local\\anaconda3\\envs\\py3_12\\lib\\site-packages (from yfinance) (4.3.7)\n",
      "Requirement already satisfied: pytz>=2022.5 in c:\\users\\annah\\appdata\\local\\anaconda3\\envs\\py3_12\\lib\\site-packages (from yfinance) (2025.2)\n",
      "Requirement already satisfied: frozendict>=2.3.4 in c:\\users\\annah\\appdata\\local\\anaconda3\\envs\\py3_12\\lib\\site-packages (from yfinance) (2.4.2)\n",
      "Requirement already satisfied: peewee>=3.16.2 in c:\\users\\annah\\appdata\\local\\anaconda3\\envs\\py3_12\\lib\\site-packages (from yfinance) (3.18.2)\n",
      "Requirement already satisfied: beautifulsoup4>=4.11.1 in c:\\users\\annah\\appdata\\local\\anaconda3\\envs\\py3_12\\lib\\site-packages (from yfinance) (4.13.4)\n",
      "Requirement already satisfied: soupsieve>1.2 in c:\\users\\annah\\appdata\\local\\anaconda3\\envs\\py3_12\\lib\\site-packages (from beautifulsoup4>=4.11.1->yfinance) (2.5)\n",
      "Requirement already satisfied: typing-extensions>=4.0.0 in c:\\users\\annah\\appdata\\local\\anaconda3\\envs\\py3_12\\lib\\site-packages (from beautifulsoup4>=4.11.1->yfinance) (4.12.2)\n",
      "Requirement already satisfied: python-dateutil>=2.8.2 in c:\\users\\annah\\appdata\\local\\anaconda3\\envs\\py3_12\\lib\\site-packages (from pandas>=1.3.0->yfinance) (2.9.0.post0)\n",
      "Requirement already satisfied: tzdata>=2022.7 in c:\\users\\annah\\appdata\\local\\anaconda3\\envs\\py3_12\\lib\\site-packages (from pandas>=1.3.0->yfinance) (2025.2)\n",
      "Requirement already satisfied: six>=1.5 in c:\\users\\annah\\appdata\\local\\anaconda3\\envs\\py3_12\\lib\\site-packages (from python-dateutil>=2.8.2->pandas>=1.3.0->yfinance) (1.17.0)\n",
      "Requirement already satisfied: charset_normalizer<4,>=2 in c:\\users\\annah\\appdata\\local\\anaconda3\\envs\\py3_12\\lib\\site-packages (from requests>=2.31->yfinance) (3.3.2)\n",
      "Requirement already satisfied: idna<4,>=2.5 in c:\\users\\annah\\appdata\\local\\anaconda3\\envs\\py3_12\\lib\\site-packages (from requests>=2.31->yfinance) (3.7)\n",
      "Requirement already satisfied: urllib3<3,>=1.21.1 in c:\\users\\annah\\appdata\\local\\anaconda3\\envs\\py3_12\\lib\\site-packages (from requests>=2.31->yfinance) (2.5.0)\n",
      "Requirement already satisfied: certifi>=2017.4.17 in c:\\users\\annah\\appdata\\local\\anaconda3\\envs\\py3_12\\lib\\site-packages (from requests>=2.31->yfinance) (2025.7.14)\n"
     ]
    }
   ],
   "source": [
    "!pip install yfinance"
   ]
  },
  {
   "cell_type": "code",
   "execution_count": 9,
   "id": "b18ff971",
   "metadata": {},
   "outputs": [],
   "source": [
    "import yfinance as yf\n",
    "import pandas as pd\n",
    "import sqlite3\n",
    "from datetime import datetime, timedelta\n"
   ]
  },
  {
   "cell_type": "code",
   "execution_count": 10,
   "id": "b7d448a2",
   "metadata": {},
   "outputs": [
    {
     "name": "stderr",
     "output_type": "stream",
     "text": [
      "[*********************100%***********************]  1 of 1 completed\n"
     ]
    },
    {
     "name": "stdout",
     "output_type": "stream",
     "text": [
      "Successfully stored data for AAPL in the database.\n"
     ]
    },
    {
     "name": "stderr",
     "output_type": "stream",
     "text": [
      "[*********************100%***********************]  1 of 1 completed\n"
     ]
    },
    {
     "name": "stdout",
     "output_type": "stream",
     "text": [
      "Successfully stored data for BA in the database.\n"
     ]
    },
    {
     "name": "stderr",
     "output_type": "stream",
     "text": [
      "[*********************100%***********************]  1 of 1 completed\n"
     ]
    },
    {
     "name": "stdout",
     "output_type": "stream",
     "text": [
      "Successfully stored data for T in the database.\n"
     ]
    },
    {
     "name": "stderr",
     "output_type": "stream",
     "text": [
      "[*********************100%***********************]  1 of 1 completed\n"
     ]
    },
    {
     "name": "stdout",
     "output_type": "stream",
     "text": [
      "Successfully stored data for MGM in the database.\n"
     ]
    },
    {
     "name": "stderr",
     "output_type": "stream",
     "text": [
      "[*********************100%***********************]  1 of 1 completed\n"
     ]
    },
    {
     "name": "stdout",
     "output_type": "stream",
     "text": [
      "Successfully stored data for AMZN in the database.\n"
     ]
    },
    {
     "name": "stderr",
     "output_type": "stream",
     "text": [
      "[*********************100%***********************]  1 of 1 completed\n"
     ]
    },
    {
     "name": "stdout",
     "output_type": "stream",
     "text": [
      "Successfully stored data for IBM in the database.\n"
     ]
    },
    {
     "name": "stderr",
     "output_type": "stream",
     "text": [
      "[*********************100%***********************]  1 of 1 completed\n"
     ]
    },
    {
     "name": "stdout",
     "output_type": "stream",
     "text": [
      "Successfully stored data for TSLA in the database.\n"
     ]
    },
    {
     "name": "stderr",
     "output_type": "stream",
     "text": [
      "[*********************100%***********************]  1 of 1 completed\n",
      "[*********************100%***********************]  1 of 1 completed"
     ]
    },
    {
     "name": "stdout",
     "output_type": "stream",
     "text": [
      "Successfully stored data for GOOG in the database.\n",
      "Successfully stored data for ^GSPC in the database.\n",
      "Finished storing data for all symbols.\n"
     ]
    },
    {
     "name": "stderr",
     "output_type": "stream",
     "text": [
      "\n"
     ]
    }
   ],
   "source": [
    "# Define the list of stock symbols\n",
    "stock_symbols = ['AAPL', 'BA', 'T', 'MGM', 'AMZN', 'IBM', 'TSLA', 'GOOG', '^GSPC']\n",
    "\n",
    "# Set the start date to 10 year ago\n",
    "end_date = datetime.now()\n",
    "start_date = end_date - timedelta(days=365*10)\n",
    "\n",
    "#Create a connection to the SQLite database\n",
    "conn = sqlite3.connect(\"yahoo_finance.db\")\n",
    "\n",
    "for symbol in stock_symbols: \n",
    "    try:\n",
    "        data = yf.download(symbol, start=start_date, end=end_date)\n",
    "        \n",
    "        if data.empty: \n",
    "            print(f\"No data found for symbol: {symbol}\")\n",
    "            continue\n",
    "        sanitized_symbol = symbol.replace('^','_')\n",
    "        data['Symbol'] = symbol\n",
    "        data.to_sql(sanitized_symbol, conn, if_exists=\"replace\", index=True)\n",
    "        \n",
    "        print(f\"Successfully stored data for {symbol} in the database.\")\n",
    "    except Exception as e: \n",
    "        print(f\"Error fetching or storing data for {symbol}: {e}\")\n",
    "        \n",
    "conn.close()\n",
    "print(\"Finished storing data for all symbols.\")\n",
    "\n",
    "\n",
    "\n",
    "        "
   ]
  },
  {
   "cell_type": "code",
   "execution_count": 11,
   "id": "649efafe",
   "metadata": {},
   "outputs": [
    {
     "name": "stdout",
     "output_type": "stream",
     "text": [
      "Data for AAPL:\n",
      "                     ('Close', 'AAPL')  ('High', 'AAPL')  ('Low', 'AAPL')  \\\n",
      "Date                                                                        \n",
      "2015-08-24 00:00:00          23.173702         24.450144        20.674753   \n",
      "2015-08-25 00:00:00          23.313028         24.969256        23.259095   \n",
      "2015-08-26 00:00:00          24.650145         24.695089        23.607418   \n",
      "2015-08-27 00:00:00          25.376007         25.447919        24.724303   \n",
      "2015-08-28 00:00:00          25.459158         25.463652        25.065888   \n",
      "...                                ...               ...              ...   \n",
      "2025-08-12 00:00:00         229.649994        230.800003       227.070007   \n",
      "2025-08-13 00:00:00         233.330002        235.000000       230.429993   \n",
      "2025-08-14 00:00:00         232.779999        235.119995       230.850006   \n",
      "2025-08-15 00:00:00         231.589996        234.279999       229.339996   \n",
      "2025-08-18 00:00:00         230.889999        233.119995       230.110001   \n",
      "\n",
      "                     ('Open', 'AAPL')  ('Volume', 'AAPL') ('Symbol', '')  \n",
      "Date                                                                      \n",
      "2015-08-24 00:00:00         21.319716           648825200           AAPL  \n",
      "2015-08-25 00:00:00         24.969256           414406400           AAPL  \n",
      "2015-08-26 00:00:00         24.065857           387098400           AAPL  \n",
      "2015-08-27 00:00:00         25.220948           338464400           AAPL  \n",
      "2015-08-28 00:00:00         25.207465           212657600           AAPL  \n",
      "...                               ...                 ...            ...  \n",
      "2025-08-12 00:00:00        228.009995            55626200           AAPL  \n",
      "2025-08-13 00:00:00        231.070007            69878500           AAPL  \n",
      "2025-08-14 00:00:00        234.059998            51916300           AAPL  \n",
      "2025-08-15 00:00:00        234.000000            56038700           AAPL  \n",
      "2025-08-18 00:00:00        231.699997            37451700           AAPL  \n",
      "\n",
      "[2511 rows x 6 columns]\n",
      "Data for BA:\n",
      "                     ('Close', 'BA')  ('High', 'BA')  ('Low', 'BA')  \\\n",
      "Date                                                                  \n",
      "2015-08-24 00:00:00       113.367302      120.774189     102.626864   \n",
      "2015-08-25 00:00:00       111.852058      116.513678     111.798581   \n",
      "2015-08-26 00:00:00       115.283669      115.658022     111.620339   \n",
      "2015-08-27 00:00:00       117.538704      117.975457     115.390627   \n",
      "2015-08-28 00:00:00       118.759827      119.187658     116.638475   \n",
      "...                              ...             ...            ...   \n",
      "2025-08-12 00:00:00       232.610001      232.610001     226.460007   \n",
      "2025-08-13 00:00:00       233.369995      235.600006     229.330002   \n",
      "2025-08-14 00:00:00       233.190002      233.970001     230.860001   \n",
      "2025-08-15 00:00:00       235.259995      236.449997     231.429993   \n",
      "2025-08-18 00:00:00       232.410004      235.160004     229.110001   \n",
      "\n",
      "                     ('Open', 'BA')  ('Volume', 'BA') ('Symbol', '')  \n",
      "Date                                                                  \n",
      "2015-08-24 00:00:00      110.203105           9425800             BA  \n",
      "2015-08-25 00:00:00      115.871925           7159100             BA  \n",
      "2015-08-26 00:00:00      115.283669           6428400             BA  \n",
      "2015-08-27 00:00:00      116.834565           5754600             BA  \n",
      "2015-08-28 00:00:00      117.146521           4508800             BA  \n",
      "...                             ...               ...            ...  \n",
      "2025-08-12 00:00:00      226.949997           7396400             BA  \n",
      "2025-08-13 00:00:00      233.250000           6670400             BA  \n",
      "2025-08-14 00:00:00      231.649994           5320800             BA  \n",
      "2025-08-15 00:00:00      233.360001           6291400             BA  \n",
      "2025-08-18 00:00:00      234.470001           8450200             BA  \n",
      "\n",
      "[2511 rows x 6 columns]\n",
      "Data for T:\n",
      "                     ('Close', 'T')  ('High', 'T')  ('Low', 'T')  \\\n",
      "Date                                                               \n",
      "2015-08-24 00:00:00       11.900470      12.018114     11.385775   \n",
      "2015-08-25 00:00:00       11.690916      12.172523     11.679887   \n",
      "2015-08-26 00:00:00       12.018113      12.076935     11.768119   \n",
      "2015-08-27 00:00:00       12.293842      12.312224     12.065907   \n",
      "2015-08-28 00:00:00       12.238703      12.297525     12.168851   \n",
      "...                             ...            ...           ...   \n",
      "2025-08-12 00:00:00       28.480000      28.700001     28.139999   \n",
      "2025-08-13 00:00:00       28.400000      28.590000     28.360001   \n",
      "2025-08-14 00:00:00       28.750000      28.770000     28.410000   \n",
      "2025-08-15 00:00:00       28.870001      29.080000     28.650000   \n",
      "2025-08-18 00:00:00       28.920000      29.150000     28.870001   \n",
      "\n",
      "                     ('Open', 'T')  ('Volume', 'T') ('Symbol', '')  \n",
      "Date                                                                \n",
      "2015-08-24 00:00:00      11.830618        102254241              T  \n",
      "2015-08-25 00:00:00      12.172523         67092641              T  \n",
      "2015-08-26 00:00:00      11.896792         65711709              T  \n",
      "2015-08-27 00:00:00      12.135757         56389028              T  \n",
      "2015-08-28 00:00:00      12.257084         31979896              T  \n",
      "...                            ...              ...            ...  \n",
      "2025-08-12 00:00:00      28.139999         30755100              T  \n",
      "2025-08-13 00:00:00      28.500000         26382700              T  \n",
      "2025-08-14 00:00:00      28.580000         24530200              T  \n",
      "2025-08-15 00:00:00      28.740000         37020400              T  \n",
      "2025-08-18 00:00:00      28.980000         20419400              T  \n",
      "\n",
      "[2511 rows x 6 columns]\n",
      "Data for MGM:\n",
      "                     ('Close', 'MGM')  ('High', 'MGM')  ('Low', 'MGM')  \\\n",
      "Date                                                                     \n",
      "2015-08-24 00:00:00         18.455734        18.569074       16.132238   \n",
      "2015-08-25 00:00:00         18.144045        19.268013       18.134601   \n",
      "2015-08-26 00:00:00         18.521854        18.814652       17.747356   \n",
      "2015-08-27 00:00:00         19.400249        19.494699       18.814652   \n",
      "2015-08-28 00:00:00         19.683599        19.683599       19.258569   \n",
      "...                               ...              ...             ...   \n",
      "2025-08-12 00:00:00         35.400002        35.619999       34.520000   \n",
      "2025-08-13 00:00:00         36.450001        36.560001       35.240002   \n",
      "2025-08-14 00:00:00         36.330002        36.410000       35.750000   \n",
      "2025-08-15 00:00:00         35.919998        36.709999       35.900002   \n",
      "2025-08-18 00:00:00         36.180000        36.330002       35.840000   \n",
      "\n",
      "                     ('Open', 'MGM')  ('Volume', 'MGM') ('Symbol', '')  \n",
      "Date                                                                    \n",
      "2015-08-24 00:00:00        17.114529           12991100            MGM  \n",
      "2015-08-25 00:00:00        19.220788            7703200            MGM  \n",
      "2015-08-26 00:00:00        18.597415            7616700            MGM  \n",
      "2015-08-27 00:00:00        18.890213            7687000            MGM  \n",
      "2015-08-28 00:00:00        19.315241            5266100            MGM  \n",
      "...                              ...                ...            ...  \n",
      "2025-08-12 00:00:00        34.610001            4360000            MGM  \n",
      "2025-08-13 00:00:00        35.299999            4423300            MGM  \n",
      "2025-08-14 00:00:00        36.080002            2889800            MGM  \n",
      "2025-08-15 00:00:00        36.590000            3617900            MGM  \n",
      "2025-08-18 00:00:00        35.970001            2795500            MGM  \n",
      "\n",
      "[2511 rows x 6 columns]\n",
      "Data for AMZN:\n",
      "                     ('Close', 'AMZN')  ('High', 'AMZN')  ('Low', 'AMZN')  \\\n",
      "Date                                                                        \n",
      "2015-08-24 00:00:00          23.168501         23.829000        22.549999   \n",
      "2015-08-25 00:00:00          23.318501         24.472000        23.312500   \n",
      "2015-08-26 00:00:00          25.038500         25.186001        23.938000   \n",
      "2015-08-27 00:00:00          25.918501         26.134501        25.363001   \n",
      "2015-08-28 00:00:00          25.900499         26.075001        25.652000   \n",
      "...                                ...               ...              ...   \n",
      "2025-08-12 00:00:00         221.470001        223.500000       219.050003   \n",
      "2025-08-13 00:00:00         224.559998        224.919998       222.000000   \n",
      "2025-08-14 00:00:00         230.979996        233.110001       227.020004   \n",
      "2025-08-15 00:00:00         231.029999        234.080002       229.809998   \n",
      "2025-08-18 00:00:00         231.490005        231.910004       228.330002   \n",
      "\n",
      "                     ('Open', 'AMZN')  ('Volume', 'AMZN') ('Symbol', '')  \n",
      "Date                                                                      \n",
      "2015-08-24 00:00:00         23.179001           201952000           AMZN  \n",
      "2015-08-25 00:00:00         24.374500           113586000           AMZN  \n",
      "2015-08-26 00:00:00         24.201000           127172000           AMZN  \n",
      "2015-08-27 00:00:00         25.685499           122290000           AMZN  \n",
      "2015-08-28 00:00:00         25.875000            54934000           AMZN  \n",
      "...                               ...                 ...            ...  \n",
      "2025-08-12 00:00:00        222.229996            37185800           AMZN  \n",
      "2025-08-13 00:00:00        222.000000            36508300           AMZN  \n",
      "2025-08-14 00:00:00        227.399994            61545800           AMZN  \n",
      "2025-08-15 00:00:00        232.580002            39649200           AMZN  \n",
      "2025-08-18 00:00:00        230.229996            25214700           AMZN  \n",
      "\n",
      "[2511 rows x 6 columns]\n",
      "Data for IBM:\n",
      "                     ('Close', 'IBM')  ('High', 'IBM')  ('Low', 'IBM')  \\\n",
      "Date                                                                     \n",
      "2015-08-24 00:00:00         89.360329        92.032353       89.067592   \n",
      "2015-08-25 00:00:00         87.796974        91.627497       87.585198   \n",
      "2015-08-26 00:00:00         91.372124        91.546521       88.531926   \n",
      "2015-08-27 00:00:00         92.518188        92.786012       90.724382   \n",
      "2015-08-28 00:00:00         92.169426        92.306454       91.671147   \n",
      "...                               ...              ...             ...   \n",
      "2025-08-12 00:00:00        234.770004       237.960007      233.360001   \n",
      "2025-08-13 00:00:00        240.070007       240.839996      236.199997   \n",
      "2025-08-14 00:00:00        237.110001       239.000000      235.619995   \n",
      "2025-08-15 00:00:00        239.720001       240.619995      236.770004   \n",
      "2025-08-18 00:00:00        239.449997       241.419998      239.119995   \n",
      "\n",
      "                     ('Open', 'IBM')  ('Volume', 'IBM') ('Symbol', '')  \n",
      "Date                                                                    \n",
      "2015-08-24 00:00:00        89.360329           10658426            IBM  \n",
      "2015-08-25 00:00:00        91.521614            7398567            IBM  \n",
      "2015-08-26 00:00:00        89.746482            6508003            IBM  \n",
      "2015-08-27 00:00:00        92.493276            5205524            IBM  \n",
      "2015-08-28 00:00:00        92.026174            4263810            IBM  \n",
      "...                              ...                ...            ...  \n",
      "2025-08-12 00:00:00       236.529999            8792800            IBM  \n",
      "2025-08-13 00:00:00       236.199997            5663600            IBM  \n",
      "2025-08-14 00:00:00       238.250000            4556700            IBM  \n",
      "2025-08-15 00:00:00       237.610001            4344300            IBM  \n",
      "2025-08-18 00:00:00       239.570007            3568400            IBM  \n",
      "\n",
      "[2511 rows x 6 columns]\n",
      "Data for TSLA:\n",
      "                     ('Close', 'TSLA')  ('High', 'TSLA')  ('Low', 'TSLA')  \\\n",
      "Date                                                                        \n",
      "2015-08-24 00:00:00          14.591333         15.426667        13.000000   \n",
      "2015-08-25 00:00:00          14.668667         15.393333        14.608000   \n",
      "2015-08-26 00:00:00          14.989333         15.200000        14.367333   \n",
      "2015-08-27 00:00:00          16.199333         16.316668        15.387333   \n",
      "2015-08-28 00:00:00          16.565332         16.763332        16.104668   \n",
      "...                                ...               ...              ...   \n",
      "2025-08-12 00:00:00         340.839996        345.260010       332.940002   \n",
      "2025-08-13 00:00:00         339.380005        348.980011       338.200012   \n",
      "2025-08-14 00:00:00         335.579987        340.470001       330.399994   \n",
      "2025-08-15 00:00:00         330.559998        339.299988       327.019989   \n",
      "2025-08-18 00:00:00         335.160004        336.269989       329.589996   \n",
      "\n",
      "                     ('Open', 'TSLA')  ('Volume', 'TSLA') ('Symbol', '')  \n",
      "Date                                                                      \n",
      "2015-08-24 00:00:00         13.519333           143724000           TSLA  \n",
      "2015-08-25 00:00:00         15.368000            64909500           TSLA  \n",
      "2015-08-26 00:00:00         15.195333            74445000           TSLA  \n",
      "2015-08-27 00:00:00         15.400000           114840000           TSLA  \n",
      "2015-08-28 00:00:00         16.124001            82705500           TSLA  \n",
      "...                               ...                 ...            ...  \n",
      "2025-08-12 00:00:00        345.000000            80522100           TSLA  \n",
      "2025-08-13 00:00:00        341.500000            67838900           TSLA  \n",
      "2025-08-14 00:00:00        335.760010            75000700           TSLA  \n",
      "2025-08-15 00:00:00        337.660004            74319800           TSLA  \n",
      "2025-08-18 00:00:00        329.619995            56821600           TSLA  \n",
      "\n",
      "[2511 rows x 6 columns]\n",
      "Data for GOOG:\n",
      "                     ('Close', 'GOOG')  ('High', 'GOOG')  ('Low', 'GOOG')  \\\n",
      "Date                                                                        \n",
      "2015-08-24 00:00:00          29.306297         29.789426        28.085555   \n",
      "2015-08-25 00:00:00          28.931030         30.690073        28.883810   \n",
      "2015-08-26 00:00:00          31.245272         31.398860        29.775508   \n",
      "2015-08-27 00:00:00          31.692118         31.989351        30.916229   \n",
      "2015-08-28 00:00:00          31.332752         31.655833        31.043473   \n",
      "...                                ...               ...              ...   \n",
      "2025-08-12 00:00:00         204.160004        205.130005       201.399994   \n",
      "2025-08-13 00:00:00         203.029999        205.429993       198.639999   \n",
      "2025-08-14 00:00:00         203.820007        205.419998       202.324997   \n",
      "2025-08-15 00:00:00         204.910004        207.330002       202.085007   \n",
      "2025-08-18 00:00:00         204.289993        206.139999       203.410004   \n",
      "\n",
      "                     ('Open', 'GOOG')  ('Volume', 'GOOG') ('Symbol', '')  \n",
      "Date                                                                      \n",
      "2015-08-24 00:00:00         28.480705           115406000           GOOG  \n",
      "2015-08-25 00:00:00         30.563825            70760000           GOOG  \n",
      "2015-08-26 00:00:00         30.337170            84718000           GOOG  \n",
      "2015-08-27 00:00:00         31.781087            69826000           GOOG  \n",
      "2015-08-28 00:00:00         31.454033            39574000           GOOG  \n",
      "...                               ...                 ...            ...  \n",
      "2025-08-12 00:00:00        202.095001            19854000           GOOG  \n",
      "2025-08-13 00:00:00        204.979996            19573000           GOOG  \n",
      "2025-08-14 00:00:00        202.559998            17777100           GOOG  \n",
      "2025-08-15 00:00:00        204.720001            21111400           GOOG  \n",
      "2025-08-18 00:00:00        205.070007            12982900           GOOG  \n",
      "\n",
      "[2511 rows x 6 columns]\n",
      "Data for _GSPC:\n",
      "                     ('Close', '^GSPC')  ('High', '^GSPC')  ('Low', '^GSPC')  \\\n",
      "Date                                                                           \n",
      "2015-08-24 00:00:00         1893.209961        1965.150024       1867.010010   \n",
      "2015-08-25 00:00:00         1867.609985        1948.040039       1867.079956   \n",
      "2015-08-26 00:00:00         1940.510010        1943.089966       1872.750000   \n",
      "2015-08-27 00:00:00         1987.660034        1989.599976       1942.770020   \n",
      "2015-08-28 00:00:00         1988.869995        1993.479980       1975.189941   \n",
      "...                                 ...                ...               ...   \n",
      "2025-08-12 00:00:00         6445.759766        6446.549805       6385.759766   \n",
      "2025-08-13 00:00:00         6466.580078        6480.279785       6445.020020   \n",
      "2025-08-14 00:00:00         6468.540039        6473.919922       6441.069824   \n",
      "2025-08-15 00:00:00         6449.799805        6481.339844       6441.850098   \n",
      "2025-08-18 00:00:00         6449.149902        6455.350098       6437.700195   \n",
      "\n",
      "                     ('Open', '^GSPC')  ('Volume', '^GSPC') ('Symbol', '')  \n",
      "Date                                                                        \n",
      "2015-08-24 00:00:00        1965.150024           6612690000          ^GSPC  \n",
      "2015-08-25 00:00:00        1898.079956           5183560000          ^GSPC  \n",
      "2015-08-26 00:00:00        1872.750000           5338250000          ^GSPC  \n",
      "2015-08-27 00:00:00        1942.770020           5006390000          ^GSPC  \n",
      "2015-08-28 00:00:00        1986.060059           3949080000          ^GSPC  \n",
      "...                                ...                  ...            ...  \n",
      "2025-08-12 00:00:00        6395.169922           5135300000          ^GSPC  \n",
      "2025-08-13 00:00:00        6462.669922           5195950000          ^GSPC  \n",
      "2025-08-14 00:00:00        6453.459961           4462050000          ^GSPC  \n",
      "2025-08-15 00:00:00        6477.379883           4575060000          ^GSPC  \n",
      "2025-08-18 00:00:00        6445.020020           4162290000          ^GSPC  \n",
      "\n",
      "[2511 rows x 6 columns]\n"
     ]
    }
   ],
   "source": [
    "#Verification\n",
    "conn = sqlite3.connect(\"yahoo_finance.db\")\n",
    "for symbol in stock_symbols: \n",
    "    sanitized_symbol = symbol.replace('^','_')\n",
    "    read_df = pd.read_sql(f\"SELECT * FROM {sanitized_symbol}\", conn, index_col = 'Date')\n",
    "    print(f\"Data for {sanitized_symbol}:\")\n",
    "    print(read_df)\n",
    "conn.close()\n"
   ]
  },
  {
   "cell_type": "code",
   "execution_count": null,
   "id": "c11f454e",
   "metadata": {},
   "outputs": [],
   "source": []
  }
 ],
 "metadata": {
  "kernelspec": {
   "display_name": "Python 3 (ipykernel)",
   "language": "python",
   "name": "python3"
  },
  "language_info": {
   "codemirror_mode": {
    "name": "ipython",
    "version": 3
   },
   "file_extension": ".py",
   "mimetype": "text/x-python",
   "name": "python",
   "nbconvert_exporter": "python",
   "pygments_lexer": "ipython3",
   "version": "3.12.11"
  }
 },
 "nbformat": 4,
 "nbformat_minor": 5
}
